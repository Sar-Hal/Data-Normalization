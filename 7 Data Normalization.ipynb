{
 "cells": [
  {
   "cell_type": "code",
   "execution_count": null,
   "metadata": {},
   "outputs": [],
   "source": [
    "import pandas as pd\n",
    "import numpy as np\n",
    "url = 'https://archive.ics.uci.edu/ml/machine-learning-databases/autos/imports-85.data'\n",
    "df = pd.read_csv(url,header = None)\n",
    "df.dtypes\n",
    "headers = [\"symboling\",\"normalized-losses\",\"make\",\"fuel-type\",\"aspiration\",\"num-of-doors\",\"body-style\",\n",
    "\"drive-wheels\",\"engine-location\",\"wheel-base\",\"length\",\"width\",\"height\",\n",
    "\"curb-weight\",\"engine-type\",\"num-of-cylinders\",\"engine-size\",\n",
    "\"fuel-system\",\"bore\",\"stroke\",\"compression-ratio\",\"horsepower\",\"peak-rpm\",\n",
    "\"city-mpg\",\"highway-mpg\",\"price\"]\n",
    "#len(headers)\n",
    "df.columns = headers\n",
    "#df[[\"length\",\"width\",\"height\"]]\n",
    "df[\"length\"]"
   ]
  },
  {
   "cell_type": "markdown",
   "metadata": {},
   "source": [
    "Normalized Data doesnt biase linear regression model to weigh certain columns more\n",
    "1. Similar value range\n",
    "2. Similar intrinsic influence on analytical model"
   ]
  },
  {
   "cell_type": "markdown",
   "metadata": {},
   "source": [
    "Three Data Normalization methods \n",
    "1. Simple Feature Scaling\n",
    "    - x(new) = x(old)/x(max)------------------All values now range from 0 to 1\n",
    "2. Min-Max\n",
    "    - x(new) = (x(old) - x(min))/(x(max)-x(min))----------All values range in 0 to 1\n",
    "3. Z-Score\n",
    "    - x(new) = (x(old) - x(avg))/Standard Deviation---------Typically range between -3 to +3 "
   ]
  },
  {
   "cell_type": "code",
   "execution_count": null,
   "metadata": {},
   "outputs": [],
   "source": [
    "#Normalization using Simple Feature Scaling\n",
    "df[\"length\"] = df[\"length\"]/df[\"length\"].max()\n",
    "df[\"length\"]"
   ]
  },
  {
   "cell_type": "code",
   "execution_count": null,
   "metadata": {},
   "outputs": [],
   "source": [
    "#Using Min-Max\n",
    "df[\"length\"] = (df[\"length\"]-df[\"length\"].min())/(df[\"length\"].max()-df[\"length\"].min())\n",
    "df[\"length\"]"
   ]
  },
  {
   "cell_type": "code",
   "execution_count": null,
   "metadata": {},
   "outputs": [],
   "source": [
    "#Using Z-Score\n",
    "df[\"length\"] = (df[\"length\"]-df[\"length\"].mean())/df[\"length\"].std()\n",
    "df[\"length\"]"
   ]
  },
  {
   "cell_type": "code",
   "execution_count": null,
   "metadata": {},
   "outputs": [],
   "source": []
  }
 ],
 "metadata": {
  "kernelspec": {
   "display_name": "Python 3",
   "language": "python",
   "name": "python3"
  },
  "language_info": {
   "codemirror_mode": {
    "name": "ipython",
    "version": 3
   },
   "file_extension": ".py",
   "mimetype": "text/x-python",
   "name": "python",
   "nbconvert_exporter": "python",
   "pygments_lexer": "ipython3",
   "version": "3.11.5"
  }
 },
 "nbformat": 4,
 "nbformat_minor": 2
}
